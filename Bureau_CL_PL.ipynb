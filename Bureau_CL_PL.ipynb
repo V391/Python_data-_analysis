{
 "cells": [
  {
   "cell_type": "code",
   "execution_count": 3,
   "id": "47a83622-7271-4112-a93c-3f3bb2a86bd5",
   "metadata": {
    "tags": []
   },
   "outputs": [],
   "source": [
    "import pandas as pd\n",
    "import numpy as np\n",
    "\n",
    "# Specify the path to your CSV file\n",
    "file = r'C:\\Users\\user\\Desktop\\Analytics\\August 2023\\ranga t1\\data-19.csv'\n",
    "\n",
    "# Read the data from the file\n",
    "df = pd.read_csv(file, low_memory=False)\n",
    "\n",
    "# Function to handle mixed date formats\n",
    "def parse_dates(date):\n",
    "    try:\n",
    "        return pd.to_datetime(date, format='%d-%m-%Y', errors='raise')\n",
    "    except ValueError:\n",
    "        return np.nan\n",
    "\n",
    "# Apply the function to the 'openDate' column\n",
    "df['openDate'] = df['openDate'].apply(parse_dates)\n",
    "\n",
    "# Exclude rows with NaT in 'openDate' column\n",
    "df = df[df['openDate'].notna()]\n",
    "\n",
    "# Prepare the output DataFrame\n",
    "output = df.groupby('cheqUserId')['openDate'].min().to_frame()\n",
    "\n",
    "# Generate the required columns\n",
    "months = pd.date_range(start=\"2021-08-01\", end=\"2023-07-01\", freq='MS')\n",
    "\n",
    "for month in months:\n",
    "    next_month = month + pd.offsets.MonthBegin(1)\n",
    "    \n",
    "    credit_line_col = f\"Credit Line opened before {month.strftime('%B %Y')}\"\n",
    "    personal_loan_col = f\"Personal Loan Opened in {month.strftime('%B %Y')}\"\n",
    "    \n",
    "    output[credit_line_col] = (output['openDate'] < month).astype(int)\n",
    "    \n",
    "    mask = (df['accountTypeName'].str.contains('PERSONAL')) & (df['openDate'].dt.month == month.month) & (df['openDate'].dt.year == month.year)\n",
    "    personal_loans = df.loc[mask].groupby('cheqUserId').size()\n",
    "    output[personal_loan_col] = personal_loans\n",
    "    output[personal_loan_col].fillna(0, inplace=True)\n",
    "\n",
    "# Format the 'openDate' in the output DataFrame\n",
    "output['openDate'] = output['openDate'].dt.strftime('%d-%m-%Y')\n",
    "\n",
    "# Write the output DataFrame to a CSV file\n",
    "output.to_csv(r'C:\\Users\\user\\Desktop\\Analytics\\August 2023\\ranga t1\\output-data19.csv')\n"
   ]
  },
  {
   "cell_type": "code",
   "execution_count": null,
   "id": "b91a7b9d-d8be-4624-b420-b4b40976bb58",
   "metadata": {},
   "outputs": [],
   "source": []
  },
  {
   "cell_type": "code",
   "execution_count": 59,
   "id": "0b6527cf-c93c-4a3d-a46e-a353c06423ec",
   "metadata": {
    "tags": []
   },
   "outputs": [],
   "source": [
    
  },
  {
   "cell_type": "code",
   "execution_count": null,
   "id": "cfc9fdb4-76b9-456b-91a7-3f114459ebf2",
   "metadata": {},
   "outputs": [],
   "source": []
  }
 ],
 "metadata": {
  "kernelspec": {
   "display_name": "Python 3 (ipykernel)",
   "language": "python",
   "name": "python3"
  },
  "language_info": {
   "codemirror_mode": {
    "name": "ipython",
    "version": 3
   },
   "file_extension": ".py",
   "mimetype": "text/x-python",
   "name": "python",
   "nbconvert_exporter": "python",
   "pygments_lexer": "ipython3",
   "version": "3.11.3"
  }
 },
 "nbformat": 4,
 "nbformat_minor": 5
}
