{
 "cells": [
  {
   "cell_type": "code",
   "execution_count": null,
   "id": "bf062895",
   "metadata": {},
   "outputs": [],
   "source": [
    "import pandas as pd\n",
    "import numpy as np\n",
    "import os\n",
    "\n",
    "# Specify the directory where your CSV files are located\n",
    "directory = r'C:\\Users\\user\\Desktop\\Analytics\\August 2023\\ranga t1'\n",
    "\n",
    "# Function to handle mixed date formats\n",
    "def parse_dates(date):\n",
    "    try:\n",
    "        return pd.to_datetime(date, format='%d-%m-%Y', errors='raise')\n",
    "    except ValueError:\n",
    "        return np.nan"
   ]
  },
  {
   "cell_type": "code",
   "execution_count": null,
   "id": "ab791369",
   "metadata": {},
   "outputs": [],
   "source": [
    "def process_csv(file):\n",
    "    # Read the data from the file\n",
    "    df = pd.read_csv(file, low_memory=False)\n",
    "\n",
    "    # Apply the function to the 'openDate' column\n",
    "    df['openDate'] = df['openDate'].apply(parse_dates)\n",
    "\n",
    "    # Exclude rows with NaT in 'openDate' column\n",
    "    df = df[df['openDate'].notna()]\n",
    "\n",
    "    # Prepare the output DataFrame\n",
    "    output = df.groupby('cheqUserId')['openDate'].min().to_frame()\n",
    "\n",
    "    # Generate the required columns\n",
    "    months = pd.date_range(start=\"2021-08-01\", end=\"2023-07-01\", freq='MS')\n",
    "\n",
    "    for month in months:\n",
    "        next_month = month + pd.offsets.MonthBegin(1)\n",
    "\n",
    "        credit_line_col = f\"Credit Line opened before {month.strftime('%B %Y')}\"\n",
    "        personal_loan_col = f\"Personal Loan Opened in {month.strftime('%B %Y')}\"\n",
    "\n",
    "        output[credit_line_col] = (output['openDate'] < month).astype(int)\n",
    "\n",
    "        mask = (df['accountTypeName'].str.contains('PERSONAL')) & (df['openDate'].dt.month == month.month) & (df['openDate'].dt.year == month.year)\n",
    "        personal_loans = df.loc[mask].groupby('cheqUserId').size()\n",
    "        output[personal_loan_col] = personal_loans\n",
    "        output[personal_loan_col].fillna(0, inplace=True)\n",
    "\n",
    "  "
   ]
  },
  {
   "cell_type": "code",
   "execution_count": null,
   "id": "2cf69258",
   "metadata": {},
   "outputs": [],
   "source": [
    "  # Format the 'openDate' in the output DataFrame\n",
    "    output['openDate'] = output['openDate'].dt.strftime('%d-%m-%Y')\n",
    "\n",
    "    # Extract the file number from the input file name\n",
    "    file_number = os.path.basename(file).split('-')[1].split('.')[0]\n",
    "\n",
    "    # Define the output file name\n",
    "    output_file = os.path.join(directory, f'output-{file_number}.csv')\n",
    "\n",
    "    # Write the output DataFrame to a CSV file\n",
    "    output.to_csv(output_file)"
   ]
  },
  {
   "cell_type": "code",
   "execution_count": null,
   "id": "1e61077c",
   "metadata": {},
   "outputs": [],
   "source": [
    "# Loop through all data files from data-1.csv to data-200.csv\n",
    "for i in range(1, 201):\n",
    "    input_file = os.path.join(directory, f'data-{i}.csv')\n",
    "    if os.path.exists(input_file):\n",
    "        process_csv(input_file)\n",
    "    else:\n",
    "        print(f\"File {input_file} does not exist.\")"
   ]
  }
 ],
 "metadata": {
  "kernelspec": {
   "display_name": "Python 3 (ipykernel)",
   "language": "python",
   "name": "python3"
  },
  "language_info": {
   "codemirror_mode": {
    "name": "ipython",
    "version": 3
   },
   "file_extension": ".py",
   "mimetype": "text/x-python",
   "name": "python",
   "nbconvert_exporter": "python",
   "pygments_lexer": "ipython3",
   "version": "3.11.3"
  }
 },
 "nbformat": 4,
 "nbformat_minor": 5
}
